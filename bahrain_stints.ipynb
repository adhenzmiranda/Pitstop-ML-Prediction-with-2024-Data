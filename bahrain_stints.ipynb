{
 "cells": [
  {
   "cell_type": "markdown",
   "metadata": {},
   "source": [
    "# Import the Modules"
   ]
  },
  {
   "cell_type": "code",
   "execution_count": 28,
   "metadata": {},
   "outputs": [],
   "source": [
    "import fastf1 as ff1 #FastF1 is a Python library for extracting and working with Formula 1 data\n",
    "import pandas as pd #Pandas is a Python library for data manipulation and analysis\n",
    "import numpy as np #NumPy is a Python library for numerical computing\n",
    "import matplotlib.pyplot as plt #Matplotlib is a Python library for data visualization\n",
    "import seaborn as sns #Seaborn is a Python library for data visualization\n",
    "from sklearn.model_selection import train_test_split #Scikit-learn is a Python library for machine learning\n",
    "from sklearn.linear_model import LinearRegression #Scikit-learn is a Python library for machine learning\n",
    "from sklearn.metrics import mean_absolute_error, mean_squared_error, r2_score, accuracy_score #Scikit-learn is a Python library for machine learning"
   ]
  },
  {
   "cell_type": "markdown",
   "metadata": {},
   "source": [
    "# Load the Race Sessions "
   ]
  },
  {
   "cell_type": "code",
   "execution_count": 29,
   "metadata": {},
   "outputs": [
    {
     "name": "stderr",
     "output_type": "stream",
     "text": [
      "core           INFO \tLoading data for Bahrain Grand Prix - Race [v3.4.4]\n",
      "req            INFO \tUsing cached data for session_info\n",
      "req            INFO \tUsing cached data for driver_info\n",
      "req            INFO \tUsing cached data for session_status_data\n",
      "req            INFO \tUsing cached data for lap_count\n",
      "req            INFO \tUsing cached data for track_status_data\n",
      "req            INFO \tUsing cached data for _extended_timing_data\n",
      "req            INFO \tUsing cached data for timing_app_data\n",
      "core           INFO \tProcessing timing data...\n",
      "req            INFO \tUsing cached data for car_data\n",
      "req            INFO \tUsing cached data for position_data\n",
      "req            INFO \tUsing cached data for weather_data\n",
      "req            INFO \tUsing cached data for race_control_messages\n",
      "core           INFO \tFinished loading data for 20 drivers: ['1', '11', '55', '16', '63', '4', '44', '81', '14', '18', '24', '20', '3', '22', '23', '27', '31', '10', '77', '2']\n"
     ]
    }
   ],
   "source": [
    "round1_24 = ff1.get_session(2024, \"Bahrain\", 'R') \n",
    "round1_24.load()\n",
    "bahrain_laps = round1_24.laps"
   ]
  },
  {
   "cell_type": "markdown",
   "metadata": {},
   "source": [
    "# Load the Driver Number List"
   ]
  },
  {
   "cell_type": "code",
   "execution_count": 30,
   "metadata": {},
   "outputs": [
    {
     "name": "stdout",
     "output_type": "stream",
     "text": [
      "['1', '11', '55', '16', '63', '4', '44', '81', '14', '18', '24', '20', '3', '22', '23', '27', '31', '10', '77', '2']\n"
     ]
    }
   ],
   "source": [
    "bahrain_drivers = round1_24.drivers\n",
    "print(bahrain_drivers)"
   ]
  },
  {
   "cell_type": "markdown",
   "metadata": {},
   "source": [
    "# Convert Driver Numbers to Abbreviation\n"
   ]
  },
  {
   "cell_type": "code",
   "execution_count": 31,
   "metadata": {},
   "outputs": [
    {
     "name": "stdout",
     "output_type": "stream",
     "text": [
      "['VER', 'PER', 'SAI', 'LEC', 'RUS', 'NOR', 'HAM', 'PIA', 'ALO', 'STR', 'ZHO', 'MAG', 'RIC', 'TSU', 'ALB', 'HUL', 'OCO', 'GAS', 'BOT', 'SAR']\n"
     ]
    }
   ],
   "source": [
    "bahrain_drivers = [round1_24.get_driver(driver)[\"Abbreviation\"] for driver in bahrain_drivers]\n",
    "print(bahrain_drivers)"
   ]
  },
  {
   "cell_type": "markdown",
   "metadata": {},
   "source": [
    "# Find the compound used for every stint of every driver "
   ]
  },
  {
   "cell_type": "code",
   "execution_count": 33,
   "metadata": {},
   "outputs": [
    {
     "name": "stdout",
     "output_type": "stream",
     "text": [
      "   Driver  Stint Compound  LapNumber\n",
      "0     ALB    1.0     SOFT         15\n",
      "1     ALB    2.0     HARD         21\n",
      "2     ALB    3.0     HARD         20\n",
      "3     ALO    1.0     SOFT         15\n",
      "4     ALO    2.0     HARD         26\n",
      "..    ...    ...      ...        ...\n",
      "58    VER    2.0     HARD         20\n",
      "59    VER    3.0     SOFT         20\n",
      "60    ZHO    1.0     SOFT          9\n",
      "61    ZHO    2.0     HARD         19\n",
      "62    ZHO    3.0     HARD         28\n",
      "\n",
      "[63 rows x 4 columns]\n"
     ]
    }
   ],
   "source": [
    "bahrain_stints = bahrain_laps[[\"Driver\", \"Stint\", \"Compound\", \"LapNumber\"]] #Select the columns \"Driver\", \"Stint\", \"Compound\", and \"LapNumber\" from the \"bahrain_laps\" DataFrame\n",
    "bahrain_stints = bahrain_stints.groupby([\"Driver\", \"Stint\", \"Compound\"]) #Group the \"bahrain_stints\" DataFrame by the columns \"Driver\", \"Stint\", and \"Compound\"\n",
    "bahrain_stints = bahrain_stints.count().reset_index() #Count the number of laps for each driver, stint, and compound, and reset the index of the resulting DataFrame\n",
    "print(bahrain_stints)"
   ]
  },
  {
   "cell_type": "markdown",
   "metadata": {},
   "source": [
    "# Rename the associated columns in the table to match the new column names with its new values."
   ]
  },
  {
   "cell_type": "code",
   "execution_count": 34,
   "metadata": {},
   "outputs": [
    {
     "name": "stdout",
     "output_type": "stream",
     "text": [
      "   Driver  Stint Compound  Laps\n",
      "0     ALB    1.0     SOFT    15\n",
      "1     ALB    2.0     HARD    21\n",
      "2     ALB    3.0     HARD    20\n",
      "3     ALO    1.0     SOFT    15\n",
      "4     ALO    2.0     HARD    26\n",
      "..    ...    ...      ...   ...\n",
      "58    VER    2.0     HARD    20\n",
      "59    VER    3.0     SOFT    20\n",
      "60    ZHO    1.0     SOFT     9\n",
      "61    ZHO    2.0     HARD    19\n",
      "62    ZHO    3.0     HARD    28\n",
      "\n",
      "[63 rows x 4 columns]\n"
     ]
    }
   ],
   "source": [
    "bahrain_stints = bahrain_stints.rename(columns={\"LapNumber\": \"Laps\"}) #Rename the \"LapNumber\" column to \"Laps\" in the \"bahrain_stints\" DataFrame\n",
    "print(bahrain_stints)"
   ]
  },
  {
   "cell_type": "markdown",
   "metadata": {},
   "source": [
    "# Export as an excel file"
   ]
  },
  {
   "cell_type": "code",
   "execution_count": 35,
   "metadata": {},
   "outputs": [],
   "source": [
    "file_name = \"bahrain_stints.csv\" #Define the name of the CSV file\n",
    "bahrain_stints.to_csv(file_name, index=False) #Save the \"bahrain_stints\" DataFrame to a CSV file"
   ]
  }
 ],
 "metadata": {
  "kernelspec": {
   "display_name": "Python 3",
   "language": "python",
   "name": "python3"
  },
  "language_info": {
   "codemirror_mode": {
    "name": "ipython",
    "version": 3
   },
   "file_extension": ".py",
   "mimetype": "text/x-python",
   "name": "python",
   "nbconvert_exporter": "python",
   "pygments_lexer": "ipython3",
   "version": "3.10.11"
  }
 },
 "nbformat": 4,
 "nbformat_minor": 2
}
