{
  "cells": [
    {
      "cell_type": "markdown",
      "metadata": {},
      "source": [
        "\n",
        "# Tyre strategies during a race\n",
        "\n",
        "Plot all drivers' tyre strategies during a race.\n"
      ]
    },
    {
      "cell_type": "markdown",
      "metadata": {},
      "source": []
    },
    {
      "cell_type": "code",
      "execution_count": 1,
      "metadata": {
        "collapsed": false
      },
      "outputs": [
        {
          "name": "stderr",
          "output_type": "stream",
          "text": [
            "Matplotlib is building the font cache; this may take a moment.\n"
          ]
        }
      ],
      "source": [
        "from matplotlib import pyplot as plt\n",
        "\n",
        "import fastf1\n",
        "import fastf1.plotting"
      ]
    },
    {
      "cell_type": "markdown",
      "metadata": {},
      "source": [
        "Load the race session\n",
        "\n"
      ]
    },
    {
      "cell_type": "code",
      "execution_count": 2,
      "metadata": {
        "collapsed": false
      },
      "outputs": [
        {
          "name": "stderr",
          "output_type": "stream",
          "text": [
            "req         WARNING \tDEFAULT CACHE ENABLED! (24.0 KB) C:\\Users\\Adhenz\\AppData\\Local\\Temp\\fastf1\n",
            "core           INFO \tLoading data for Hungarian Grand Prix - Race [v3.4.4]\n",
            "req            INFO \tNo cached data found for session_info. Loading data...\n",
            "_api           INFO \tFetching session info data...\n",
            "req            INFO \tData has been written to cache!\n",
            "req            INFO \tNo cached data found for driver_info. Loading data...\n",
            "_api           INFO \tFetching driver list...\n",
            "req            INFO \tData has been written to cache!\n",
            "req            INFO \tNo cached data found for session_status_data. Loading data...\n",
            "_api           INFO \tFetching session status data...\n",
            "req            INFO \tData has been written to cache!\n",
            "req            INFO \tNo cached data found for lap_count. Loading data...\n",
            "_api           INFO \tFetching lap count data...\n",
            "req            INFO \tData has been written to cache!\n",
            "req            INFO \tNo cached data found for track_status_data. Loading data...\n",
            "_api           INFO \tFetching track status data...\n",
            "req            INFO \tData has been written to cache!\n",
            "req            INFO \tNo cached data found for _extended_timing_data. Loading data...\n",
            "_api           INFO \tFetching timing data...\n",
            "_api           INFO \tParsing timing data...\n",
            "req            INFO \tData has been written to cache!\n",
            "req            INFO \tNo cached data found for timing_app_data. Loading data...\n",
            "_api           INFO \tFetching timing app data...\n",
            "req            INFO \tData has been written to cache!\n",
            "core           INFO \tProcessing timing data...\n",
            "req            INFO \tNo cached data found for car_data. Loading data...\n",
            "_api           INFO \tFetching car data...\n",
            "_api           INFO \tParsing car data...\n",
            "req            INFO \tData has been written to cache!\n",
            "req            INFO \tNo cached data found for position_data. Loading data...\n",
            "_api           INFO \tFetching position data...\n",
            "_api           INFO \tParsing position data...\n",
            "req            INFO \tData has been written to cache!\n",
            "req            INFO \tNo cached data found for weather_data. Loading data...\n",
            "_api           INFO \tFetching weather data...\n",
            "req            INFO \tData has been written to cache!\n",
            "req            INFO \tNo cached data found for race_control_messages. Loading data...\n",
            "_api           INFO \tFetching race control messages...\n",
            "req            INFO \tData has been written to cache!\n",
            "core           INFO \tFinished loading data for 20 drivers: ['1', '44', '63', '55', '11', '16', '4', '14', '31', '5', '18', '10', '24', '47', '3', '20', '23', '6', '22', '77']\n"
          ]
        }
      ],
      "source": [
        "session = fastf1.get_session(2022, \"Hungary\", 'R')\n",
        "session.load()\n",
        "laps = session.laps"
      ]
    },
    {
      "cell_type": "markdown",
      "metadata": {},
      "source": [
        "Get the list of driver numbers\n",
        "\n"
      ]
    },
    {
      "cell_type": "code",
      "execution_count": 3,
      "metadata": {
        "collapsed": false
      },
      "outputs": [
        {
          "name": "stdout",
          "output_type": "stream",
          "text": [
            "['1', '44', '63', '55', '11', '16', '4', '14', '31', '5', '18', '10', '24', '47', '3', '20', '23', '6', '22', '77']\n"
          ]
        }
      ],
      "source": [
        "drivers = session.drivers\n",
        "print(drivers)"
      ]
    },
    {
      "cell_type": "markdown",
      "metadata": {},
      "source": [
        "Convert the driver numbers to three letter abbreviations\n",
        "\n"
      ]
    },
    {
      "cell_type": "code",
      "execution_count": 4,
      "metadata": {
        "collapsed": false
      },
      "outputs": [
        {
          "name": "stdout",
          "output_type": "stream",
          "text": [
            "['VER', 'HAM', 'RUS', 'SAI', 'PER', 'LEC', 'NOR', 'ALO', 'OCO', 'VET', 'STR', 'GAS', 'ZHO', 'MSC', 'RIC', 'MAG', 'ALB', 'LAT', 'TSU', 'BOT']\n"
          ]
        }
      ],
      "source": [
        "drivers = [session.get_driver(driver)[\"Abbreviation\"] for driver in drivers]\n",
        "print(drivers)"
      ]
    },
    {
      "cell_type": "markdown",
      "metadata": {},
      "source": [
        "We need to find the stint length and compound used\n",
        "for every stint by every driver.\n",
        "We do this by first grouping the laps by the driver,\n",
        "the stint number, and the compound.\n",
        "And then counting the number of laps in each group.\n",
        "\n"
      ]
    },
    {
      "cell_type": "code",
      "execution_count": 5,
      "metadata": {
        "collapsed": false
      },
      "outputs": [],
      "source": [
        "stints = laps[[\"Driver\", \"Stint\", \"Compound\", \"LapNumber\"]]\n",
        "stints = stints.groupby([\"Driver\", \"Stint\", \"Compound\"])\n",
        "stints = stints.count().reset_index()"
      ]
    },
    {
      "cell_type": "markdown",
      "metadata": {},
      "source": [
        "The number in the LapNumber column now stands for the number of observations\n",
        "in that group aka the stint length.\n",
        "\n"
      ]
    },
    {
      "cell_type": "code",
      "execution_count": 6,
      "metadata": {
        "collapsed": false
      },
      "outputs": [
        {
          "name": "stdout",
          "output_type": "stream",
          "text": [
            "   Driver  Stint Compound  StintLength\n",
            "0     ALB    1.0     SOFT            2\n",
            "1     ALB    2.0   MEDIUM           19\n",
            "2     ALB    3.0   MEDIUM           19\n",
            "3     ALB    4.0     SOFT           29\n",
            "4     ALO    1.0   MEDIUM           21\n",
            "..    ...    ...      ...          ...\n",
            "57    VET    2.0   MEDIUM           31\n",
            "58    VET    3.0   MEDIUM           23\n",
            "59    ZHO    1.0   MEDIUM           27\n",
            "60    ZHO    2.0     HARD           24\n",
            "61    ZHO    3.0     SOFT           18\n",
            "\n",
            "[62 rows x 4 columns]\n"
          ]
        }
      ],
      "source": [
        "stints = stints.rename(columns={\"LapNumber\": \"StintLength\"})\n",
        "print(stints)"
      ]
    },
    {
      "cell_type": "markdown",
      "metadata": {},
      "source": [
        "Now we can plot the strategies for each driver\n",
        "\n"
      ]
    },
    {
      "cell_type": "code",
      "execution_count": 7,
      "metadata": {
        "collapsed": false
      },
      "outputs": [
        {
          "data": {
            "image/png": "[encoded data removed]",
            "text/plain": [
              "<Figure size 500x1000 with 1 Axes>"
            ]
          },
          "metadata": {},
          "output_type": "display_data"
        }
      ],
      "source": [
        "fig, ax = plt.subplots(figsize=(5, 10))\n",
        "\n",
        "for driver in drivers:\n",
        "    driver_stints = stints.loc[stints[\"Driver\"] == driver]\n",
        "\n",
        "    previous_stint_end = 0\n",
        "    for idx, row in driver_stints.iterrows():\n",
        "        # each row contains the compound name and stint length\n",
        "        # we can use these information to draw horizontal bars\n",
        "        compound_color = fastf1.plotting.get_compound_color(row[\"Compound\"],\n",
        "                                                            session=session)\n",
        "        plt.barh(\n",
        "            y=driver,\n",
        "            width=row[\"StintLength\"],\n",
        "            left=previous_stint_end,\n",
        "            color=compound_color,\n",
        "            edgecolor=\"black\",\n",
        "            fill=True\n",
        "        )\n",
        "\n",
        "        previous_stint_end += row[\"StintLength\"]"
      ]
    },
    {
      "cell_type": "markdown",
      "metadata": {},
      "source": [
        "Make the plot more readable and intuitive\n",
        "\n"
      ]
    },
    {
      "cell_type": "code",
      "execution_count": 8,
      "metadata": {
        "collapsed": false
      },
      "outputs": [
        {
          "data": {
            "image/png": "[encoded data removed]",
            "text/plain": [
              "<Figure size 640x480 with 1 Axes>"
            ]
          },
          "metadata": {},
          "output_type": "display_data"
        }
      ],
      "source": [
        "plt.title(\"2022 Hungarian Grand Prix Strategies\")\n",
        "plt.xlabel(\"Lap Number\")\n",
        "plt.grid(False)\n",
        "# invert the y-axis so drivers that finish higher are closer to the top\n",
        "ax.invert_yaxis()"
      ]
    },
    {
      "cell_type": "markdown",
      "metadata": {},
      "source": [
        "Plot aesthetics\n",
        "\n"
      ]
    },
    {
      "cell_type": "code",
      "execution_count": 9,
      "metadata": {
        "collapsed": false
      },
      "outputs": [
        {
          "data": {
            "text/plain": [
              "<Figure size 640x480 with 0 Axes>"
            ]
          },
          "metadata": {},
          "output_type": "display_data"
        }
      ],
      "source": [
        "ax.spines['top'].set_visible(False)\n",
        "ax.spines['right'].set_visible(False)\n",
        "ax.spines['left'].set_visible(False)\n",
        "\n",
        "plt.tight_layout()\n",
        "plt.show()"
      ]
    }
  ],
  "metadata": {
    "kernelspec": {
      "display_name": "Python 3",
      "language": "python",
      "name": "python3"
    },
    "language_info": {
      "codemirror_mode": {
        "name": "ipython",
        "version": 3
      },
      "file_extension": ".py",
      "mimetype": "text/x-python",
      "name": "python",
      "nbconvert_exporter": "python",
      "pygments_lexer": "ipython3",
      "version": "3.13.1"
    }
  },
  "nbformat": 4,
  "nbformat_minor": 0
}
