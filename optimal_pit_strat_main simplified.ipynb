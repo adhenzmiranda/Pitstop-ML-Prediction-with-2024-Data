{
 "cells": [
  {
   "cell_type": "markdown",
   "metadata": {},
   "source": [
    "## Import the modules"
   ]
  },
  {
   "cell_type": "code",
   "execution_count": 3,
   "metadata": {},
   "outputs": [
    {
     "name": "stderr",
     "output_type": "stream",
     "text": [
      "c:\\Users\\adhen\\AppData\\Local\\Programs\\Python\\Python310\\lib\\site-packages\\tqdm\\auto.py:21: TqdmWarning: IProgress not found. Please update jupyter and ipywidgets. See https://ipywidgets.readthedocs.io/en/stable/user_install.html\n",
      "  from .autonotebook import tqdm as notebook_tqdm\n"
     ]
    }
   ],
   "source": [
    "import fastf1 as ff1 \n",
    "import matplotlib.pyplot as plt\n",
    "import pandas as pd\n",
    "from sklearn.model_selection import train_test_split\n",
    "from sklearn.linear_model import LinearRegression\n",
    "from sklearn.tree import DecisionTreeRegressor\n",
    "from sklearn.ensemble import RandomForestRegressor, GradientBoostingRegressor\n",
    "from sklearn.neighbors import KNeighborsRegressor\n",
    "from sklearn.metrics import mean_squared_error, mean_absolute_error, r2_score\n",
    "from sklearn.metrics import accuracy_score\n",
    "import gradio as gr\n",
    "import seaborn as sns\n",
    "import numpy as np\n",
    "import gradio as gr"
   ]
  },
  {
   "cell_type": "markdown",
   "metadata": {},
   "source": [
    "## Make a Dictionary on the file locations"
   ]
  },
  {
   "cell_type": "code",
   "execution_count": 4,
   "metadata": {},
   "outputs": [],
   "source": [
    "grand_prix_files = {\n",
    "    \"Austrian Grand Prix\": \"race_stints_2024/austrian_grand_prix_stints.csv\",\n",
    "    \"British Grand Prix\": \"race_stints_2024/british_grand_prix_stints.csv\",\n",
    "    \"Bahrain Grand Prix\": \"race_stints_2024/bahrain_grand_prix_stints.csv\",\n",
    "    \"Saudi Arabian Grand Prix\": \"race_stints_2024/saudi_arabian_grand_prix_stints.csv\",\n",
    "    \"Australian Grand Prix\": \"race_stints_2024/australian_grand_prix_stints.csv\",\n",
    "    \"Emilia Romagna Grand Prix\": \"race_stints_2024/emilia_romagna_grand_prix_stints.csv\",\n",
    "    \"Monaco Grand Prix\": \"race_stints_2024/monaco_grand_prix_stints.csv\",\n",
    "    \"Spanish Grand Prix\": \"race_stints_2024/spanish_grand_prix_stints.csv\",\n",
    "    \"Canadian Grand Prix\": \"race_stints_2024/canadian_grand_prix_stints.csv\",\n",
    "    \"French Grand Prix\": \"race_stints_2024/french_grand_prix_stints.csv\",\n",
    "    \"Hungarian Grand Prix\": \"race_stints_2024/hungarian_grand_prix_stints.csv\",\n",
    "    \"Belgian Grand Prix\": \"race_stints_2024/belgian_grand_prix_stints.csv\",\n",
    "    \"Dutch Grand Prix\": \"race_stints_2024/dutch_grand_prix_stints.csv\",\n",
    "    \"Italian Grand Prix\": \"race_stints_2024/italian_grand_prix_stints.csv\",\n",
    "    \"Singapore Grand Prix\": \"race_stints_2024/singapore_grand_prix_stints.csv\",\n",
    "    \"Japanese Grand Prix\": \"race_stints_2024/japanese_grand_prix_stints.csv\",\n",
    "    \"United States Grand Prix\": \"race_stints_2024/united_states_grand_prix_stints.csv\",\n",
    "    \"Mexican Grand Prix\": \"race_stints_2024/mexican_grand_prix_stints.csv\",\n",
    "    \"Brazilian Grand Prix\": \"race_stints_2024/brazilian_grand_prix_stints.csv\",\n",
    "    \"Qatar Grand Prix\": \"race_stints_2024/qatar_grand_prix_stints.csv\",\n",
    "    \"Abu Dhabi Grand Prix\": \"race_stints_2024/abu_dhabi_grand_prix_stints.csv\",\n",
    "    \"Miami Grand Prix\": \"race_stints_2024/miami_grand_prix_stints.csv\",\n",
    "    \"Las Vegas Grand Prix\": \"race_stints_2024/las_vegas_grand_prix_stints.csv\"\n",
    "}"
   ]
  },
  {
   "cell_type": "markdown",
   "metadata": {},
   "source": [
    "## Display the data with Gradio and make it interactive"
   ]
  },
  {
   "cell_type": "code",
   "execution_count": 5,
   "metadata": {},
   "outputs": [
    {
     "name": "stdout",
     "output_type": "stream",
     "text": [
      "* Running on local URL:  http://127.0.0.1:7868\n",
      "\n",
      "Could not create share link. Please check your internet connection or our status page: https://status.gradio.app.\n"
     ]
    },
    {
     "data": {
      "text/html": [
       "<div><iframe src=\"http://127.0.0.1:7868/\" width=\"100%\" height=\"500\" allow=\"autoplay; camera; microphone; clipboard-read; clipboard-write;\" frameborder=\"0\" allowfullscreen></iframe></div>"
      ],
      "text/plain": [
       "<IPython.core.display.HTML object>"
      ]
     },
     "metadata": {},
     "output_type": "display_data"
    },
    {
     "data": {
      "text/plain": []
     },
     "execution_count": 5,
     "metadata": {},
     "output_type": "execute_result"
    },
    {
     "name": "stdout",
     "output_type": "stream",
     "text": [
      "British Grand Prix\n",
      "Optimal Laps for Each Driver:\n",
      "    Stint  Compound  Driver  Actual Laps  Predicted Laps  Residuals\n",
      "0     1.0         2       1           27           26.75       0.25\n",
      "5     3.0         2       2           14           13.67       0.33\n",
      "12    3.0         1       4           14           13.73       0.27\n",
      "16    1.0         2       6           19           26.51       7.51\n",
      "33    3.0         4       9            9            9.73       0.73\n",
      "41    3.0         1      10           14           12.64       1.36\n",
      "53    3.0         2      11           13           12.63       0.37\n",
      "61    2.0         2      14            7           10.51       3.51\n",
      "9     1.0         2      15            1           26.17      25.17\n",
      "45    2.0         4      16           13           10.54       2.46\n",
      "30    5.0         2      19           12            5.04       6.96\n",
      "Top 3 Optimal Laps for Each Driver:\n",
      "    Stint  Compound  Driver  Actual Laps  Predicted Laps  Residuals\n",
      "0     1.0         2       1           27           26.75       0.25\n",
      "1     3.0         1       4           14           13.73       0.27\n",
      "2     3.0         2       2           14           13.67       0.33\n",
      "3     3.0         2      11           13           12.63       0.37\n",
      "4     3.0         4       9            9            9.73       0.73\n",
      "5     3.0         1      10           14           12.64       1.36\n",
      "6     2.0         4      16           13           10.54       2.46\n",
      "7     2.0         2      14            7           10.51       3.51\n",
      "8     5.0         2      19           12            5.04       6.96\n",
      "9     1.0         2       6           19           26.51       7.51\n",
      "10    5.0         1      14           13            4.30       8.70\n",
      "11    1.0         1      14           12           22.02      10.02\n",
      "12    1.0         2      15            1           26.17      25.17\n",
      "Mean Squared Error: 71.97\n",
      "Mean Absolute Error: 5.20\n",
      "R2 Score: -116.11%\n"
     ]
    }
   ],
   "source": [
    "def optimal_pit_stop_lap(grand_prix):\n",
    "    print(grand_prix)\n",
    "    file_path = grand_prix_files[grand_prix]\n",
    "    data = pd.read_csv(file_path)\n",
    "\n",
    "    # Mapping the tyre compounds\n",
    "    compound_map = {\n",
    "        \"SOFT\": 1,\n",
    "        \"MEDIUM\": 2,\n",
    "        \"HARD\": 3,\n",
    "        \"INTERMEDIATE\": 4,\n",
    "        \"WET\": 5\n",
    "\n",
    "    }\n",
    "\n",
    "    data[\"Compound\"] = data[\"Compound\"].map(compound_map)\n",
    "\n",
    "    # Mapping the drivers\n",
    "    drivers_map = {\n",
    "        \"ALB\": 1,  # Alexander Albon\n",
    "        \"ALO\": 2,  # Fernando Alonso\n",
    "        \"BOT\": 3,  # Valtteri Bottas\n",
    "        \"HAM\": 4,  # Lewis Hamilton\n",
    "        \"HUL\": 5,  # Nico Hulkenberg\n",
    "        \"LEC\": 6,  # Charles Leclerc\n",
    "        \"PIA\": 7,  # Oscar Piastri\n",
    "        \"NOR\": 8,  # Lando Norris\n",
    "        \"PER\": 9,  # Sergio Perez\n",
    "        \"RIC\": 10, # Daniel Ricciardo\n",
    "        \"STR\": 11, # Lance Stroll\n",
    "        \"TSU\": 12, # Yuki Tsunoda\n",
    "        \"ZHO\": 14, # Zhou Guanyu\n",
    "        \"GAS\": 15, # Pierre Gasly\n",
    "        \"SAI\": 16, # Carlos Sainz\n",
    "        \"VER\": 17, # Max Verstappen\n",
    "        \"RUS\": 18, # George Russell\n",
    "        \"OCO\": 19, # Esteban Ocon\n",
    "        \"SAR\": 20, # Logan Sargeant\n",
    "        \"MAG\": 21, # Kevin Magnussen\n",
    "        \"LAW\": 22, # Liam Lawson\n",
    "        \"COL\": 23, # Franco Colapinto\n",
    "        \"DOO\": 24, # Jack Doohan\n",
    "        \"BEA\": 25  # Oliver Bearman\n",
    "    }\n",
    "\n",
    "    data[\"Driver\"] = data[\"Driver\"].map(drivers_map)\n",
    "\n",
    "    # Drop rows with NaN values in any column\n",
    "    data = data.dropna()\n",
    "\n",
    "    x = data[[\"Stint\", \"Compound\", \"Driver\"]]\n",
    "    y = data[\"Laps\"]\n",
    "    x_train, x_test, y_train, y_test = train_test_split(x, y, test_size=0.2, random_state=42)\n",
    "    model = RandomForestRegressor()\n",
    "    model.fit(x_train, y_train)\n",
    "    predictions = model.predict(x_test)\n",
    "\n",
    "    # Calculate residuals\n",
    "    residuals = np.round(np.abs(y_test - predictions), decimals=2)\n",
    "\n",
    "    # Combine test data, predictions, and residuals into a DataFrame\n",
    "    results = x_test.copy()\n",
    "    results[\"Actual Laps\"] = y_test\n",
    "    results[\"Predicted Laps\"] = np.round(predictions, decimals=2)\n",
    "    results[\"Residuals\"] = residuals\n",
    "\n",
    "    # Find the optimal lap for each driver\n",
    "    optimal_laps = results.loc[results.groupby(\"Driver\")[\"Residuals\"].idxmin()]\n",
    "\n",
    "    print(\"Optimal Laps for Each Driver:\")\n",
    "    print(optimal_laps)\n",
    "\n",
    "    # Sort the results by Driver and Residuals\n",
    "    results_sorted = results.sort_values(by=[\"Residuals\"])\n",
    "\n",
    "    # Pick the top 3 values with the lowest residuals for each driver\n",
    "    top_3_optimal_laps = results_sorted.groupby(\"Residuals\").head(3).reset_index(drop=True)\n",
    "\n",
    "\n",
    "\n",
    "    print(\"Top 3 Optimal Laps for Each Driver:\")\n",
    "    print(top_3_optimal_laps)\n",
    "\n",
    "    # calculate accuracy\n",
    "    mse = mean_squared_error(y_test, predictions)\n",
    "    mae = mean_absolute_error(y_test, predictions)\n",
    "    r2 = r2_score(y_test, predictions)\n",
    "    print(f'Mean Squared Error: {mse:.2f}')\n",
    "    print(f'Mean Absolute Error: {mae:.2f}')\n",
    "    print(f'R2 Score: {r2*100:.2f}%')\n",
    "\n",
    "    return top_3_optimal_laps.head(3)\n",
    "\n",
    "iface = gr.Interface(fn=optimal_pit_stop_lap,\n",
    "                    inputs=gr.Dropdown(\n",
    "                        choices=list(grand_prix_files.keys()),\n",
    "                        label=\"Select Grand Prix\"),\n",
    "                    outputs=gr.DataFrame(),\n",
    "                    title=\"F1 Optimal Pit Stop Prediction\",\n",
    "                    description=\"Predict the optimal lap to pit for the selected Grand Prix\",)\n",
    "iface.launch(share=True)"
   ]
  }
 ],
 "metadata": {
  "kernelspec": {
   "display_name": "Python 3",
   "language": "python",
   "name": "python3"
  },
  "language_info": {
   "codemirror_mode": {
    "name": "ipython",
    "version": 3
   },
   "file_extension": ".py",
   "mimetype": "text/x-python",
   "name": "python",
   "nbconvert_exporter": "python",
   "pygments_lexer": "ipython3",
   "version": "3.10.11"
  }
 },
 "nbformat": 4,
 "nbformat_minor": 2
}
