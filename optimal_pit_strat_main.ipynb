{
 "cells": [
  {
   "cell_type": "markdown",
   "metadata": {},
   "source": [
    "## Import the modules"
   ]
  },
  {
   "cell_type": "code",
   "execution_count": 204,
   "metadata": {},
   "outputs": [],
   "source": [
    "import fastf1 as ff1 \n",
    "import matplotlib.pyplot as plt\n",
    "import pandas as pd\n",
    "from sklearn.model_selection import train_test_split\n",
    "from sklearn.linear_model import LinearRegression\n",
    "from sklearn.tree import DecisionTreeRegressor\n",
    "from sklearn.ensemble import RandomForestRegressor, GradientBoostingRegressor\n",
    "from sklearn.neighbors import KNeighborsRegressor\n",
    "from sklearn.metrics import mean_squared_error, mean_absolute_error, r2_score\n",
    "from sklearn.metrics import accuracy_score\n",
    "import gradio as gr\n",
    "import seaborn as sns\n",
    "import numpy as np\n",
    "import gradio as gr"
   ]
  },
  {
   "cell_type": "markdown",
   "metadata": {},
   "source": [
    "## Make a Dictionary on the file locations"
   ]
  },
  {
   "cell_type": "code",
   "execution_count": 205,
   "metadata": {},
   "outputs": [],
   "source": [
    "grand_prix_files = {\n",
    "    \"Austrian Grand Prix\": \"race_stints_2024/austrian_grand_prix_stints.csv\",\n",
    "    \"British Grand Prix\": \"race_stints_2024/british_grand_prix_stints.csv\",\n",
    "    \"Bahrain Grand Prix\": \"race_stints_2024/bahrain_grand_prix_stints.csv\",\n",
    "    \"Saudi Arabian Grand Prix\": \"race_stints_2024/saudi_arabian_grand_prix_stints.csv\",\n",
    "    \"Australian Grand Prix\": \"race_stints_2024/australian_grand_prix_stints.csv\",\n",
    "    \"Emilia Romagna Grand Prix\": \"race_stints_2024/emilia_romagna_grand_prix_stints.csv\",\n",
    "    \"Monaco Grand Prix\": \"race_stints_2024/monaco_grand_prix_stints.csv\",\n",
    "    \"Spanish Grand Prix\": \"race_stints_2024/spanish_grand_prix_stints.csv\",\n",
    "    \"Canadian Grand Prix\": \"race_stints_2024/canadian_grand_prix_stints.csv\",\n",
    "    \"French Grand Prix\": \"race_stints_2024/french_grand_prix_stints.csv\",\n",
    "    \"Hungarian Grand Prix\": \"race_stints_2024/hungarian_grand_prix_stints.csv\",\n",
    "    \"Belgian Grand Prix\": \"race_stints_2024/belgian_grand_prix_stints.csv\",\n",
    "    \"Dutch Grand Prix\": \"race_stints_2024/dutch_grand_prix_stints.csv\",\n",
    "    \"Italian Grand Prix\": \"race_stints_2024/italian_grand_prix_stints.csv\",\n",
    "    \"Singapore Grand Prix\": \"race_stints_2024/singapore_grand_prix_stints.csv\",\n",
    "    \"Japanese Grand Prix\": \"race_stints_2024/japanese_grand_prix_stints.csv\",\n",
    "    \"United States Grand Prix\": \"race_stints_2024/united_states_grand_prix_stints.csv\",\n",
    "    \"Mexican Grand Prix\": \"race_stints_2024/mexican_grand_prix_stints.csv\",\n",
    "    \"Brazilian Grand Prix\": \"race_stints_2024/brazilian_grand_prix_stints.csv\",\n",
    "    \"Qatar Grand Prix\": \"race_stints_2024/qatar_grand_prix_stints.csv\",\n",
    "    \"Abu Dhabi Grand Prix\": \"race_stints_2024/abu_dhabi_grand_prix_stints.csv\",\n",
    "    \"Miami Grand Prix\": \"race_stints_2024/miami_grand_prix_stints.csv\",\n",
    "    \"Las Vegas Grand Prix\": \"race_stints_2024/las_vegas_grand_prix_stints.csv\"\n",
    "}"
   ]
  },
  {
   "cell_type": "markdown",
   "metadata": {},
   "source": [
    "## Input the Grand Prix"
   ]
  },
  {
   "cell_type": "code",
   "execution_count": 206,
   "metadata": {},
   "outputs": [
    {
     "name": "stdout",
     "output_type": "stream",
     "text": [
      "Predicting the Optimal Pitstop for the:Abu Dhabi Grand Prix\n"
     ]
    }
   ],
   "source": [
    "# grand_prix = input(\"Enter a 2024 Grand Prix\")\n",
    "grand_prix = \"Abu Dhabi Grand Prix\"\n",
    "grand_prix_files[grand_prix]\n",
    "print(f'Predicting the Optimal Pitstop for the:{grand_prix}')"
   ]
  },
  {
   "cell_type": "markdown",
   "metadata": {},
   "source": [
    "## Load and read the selected file"
   ]
  },
  {
   "cell_type": "code",
   "execution_count": 207,
   "metadata": {},
   "outputs": [
    {
     "name": "stdout",
     "output_type": "stream",
     "text": [
      "  Driver  Stint Compound  Laps\n",
      "0    ALB    1.0   MEDIUM    12\n",
      "1    ALB    2.0     HARD    45\n",
      "2    ALO    1.0   MEDIUM    13\n",
      "3    ALO    2.0     HARD    24\n",
      "4    ALO    3.0     HARD    21\n"
     ]
    }
   ],
   "source": [
    "file_path = grand_prix_files[grand_prix] #Find the file path for the selected grand prix\n",
    "data = pd.read_csv(file_path) #Read the data from the file\n",
    "print(data.head()) #Print the first 5 rows of the data"
   ]
  },
  {
   "cell_type": "markdown",
   "metadata": {},
   "source": [
    "## Pre-process and map the data"
   ]
  },
  {
   "cell_type": "code",
   "execution_count": 208,
   "metadata": {},
   "outputs": [],
   "source": [
    "# Mapping the tyre compounds\n",
    "compound_map = {\n",
    "    \"SOFT\": 1,\n",
    "    \"MEDIUM\": 2,\n",
    "    \"HARD\": 3,\n",
    "    \"INTERMEDIATE\": 4,\n",
    "    \"WET\": 5\n",
    "\n",
    "}\n",
    "\n",
    "data[\"Compound\"] = data[\"Compound\"].map(compound_map)\n",
    "\n",
    "# Mapping the drivers\n",
    "drivers_map = {\n",
    "    \"ALB\": 1,  # Alexander Albon\n",
    "    \"ALO\": 2,  # Fernando Alonso\n",
    "    \"BOT\": 3,  # Valtteri Bottas\n",
    "    \"HAM\": 4,  # Lewis Hamilton\n",
    "    \"HUL\": 5,  # Nico Hulkenberg\n",
    "    \"LEC\": 6,  # Charles Leclerc\n",
    "    \"PIA\": 7,  # Oscar Piastri\n",
    "    \"NOR\": 8,  # Lando Norris\n",
    "    \"PER\": 9,  # Sergio Perez\n",
    "    \"RIC\": 10, # Daniel Ricciardo\n",
    "    \"STR\": 11, # Lance Stroll\n",
    "    \"TSU\": 12, # Yuki Tsunoda\n",
    "    \"ZHO\": 14, # Zhou Guanyu\n",
    "    \"GAS\": 15, # Pierre Gasly\n",
    "    \"SAI\": 16, # Carlos Sainz\n",
    "    \"VER\": 17, # Max Verstappen\n",
    "    \"RUS\": 18, # George Russell\n",
    "    \"OCO\": 19, # Esteban Ocon\n",
    "    \"SAR\": 20, # Logan Sargeant\n",
    "    \"MAG\": 21, # Kevin Magnussen\n",
    "    \"LAW\": 22, # Liam Lawson\n",
    "    \"COL\": 23, # Franco Colapinto\n",
    "    \"DOO\": 24, # Jack Doohan\n",
    "    \"BEA\": 25  # Oliver Bearman\n",
    "}\n",
    "\n",
    "data[\"Driver\"] = data[\"Driver\"].map(drivers_map)\n",
    "\n",
    "# Drop rows with NaN values in any column\n",
    "data = data.dropna()\n",
    "\n",
    "# Pre process into their respective variables\n",
    "x = data[[\"Stint\", \"Compound\", \"Driver\"]]\n",
    "y = data[\"Laps\"]"
   ]
  },
  {
   "cell_type": "markdown",
   "metadata": {},
   "source": [
    "## Split the data "
   ]
  },
  {
   "cell_type": "code",
   "execution_count": 209,
   "metadata": {},
   "outputs": [],
   "source": [
    "x_train, x_test, y_train, y_test = train_test_split(x, y, test_size=0.2, random_state=42)"
   ]
  },
  {
   "cell_type": "markdown",
   "metadata": {},
   "source": [
    "## Choose the model and predict the data"
   ]
  },
  {
   "cell_type": "code",
   "execution_count": 210,
   "metadata": {},
   "outputs": [
    {
     "name": "stdout",
     "output_type": "stream",
     "text": [
      "[18.06 22.2  18.06 23.62 11.17 27.63 26.74 10.45 28.3  10.55]\n"
     ]
    }
   ],
   "source": [
    "model = RandomForestRegressor()\n",
    "model.fit(x_train, y_train)\n",
    "\n",
    "predictions = model.predict(x_test)\n",
    "print(predictions)"
   ]
  },
  {
   "cell_type": "markdown",
   "metadata": {},
   "source": [
    "## Calculate the residuals to find the optimal lap to pit"
   ]
  },
  {
   "cell_type": "code",
   "execution_count": 211,
   "metadata": {},
   "outputs": [
    {
     "name": "stdout",
     "output_type": "stream",
     "text": [
      "Optimal Laps for Each Driver:\n",
      "    Stint  Compound  Driver  Actual Laps  Predicted Laps  Residuals\n",
      "4     3.0         3       2           21           28.30       7.30\n",
      "40    3.0         3      11           25           22.20       2.80\n",
      "12    2.0         3      15           44           26.74      17.26\n",
      "37    2.0         3      16           33           27.63       5.37\n",
      "43    1.0         2      17           29           23.62       5.38\n",
      "24    2.0         3      21           17           11.17       5.83\n",
      "19    3.0         3      22            5           10.45       5.45\n"
     ]
    }
   ],
   "source": [
    "# Calculate residuals\n",
    "residuals = np.abs(y_test - predictions)\n",
    "\n",
    "# Combine test data, predictions, and residuals into a DataFrame\n",
    "results = x_test.copy()\n",
    "results[\"Actual Laps\"] = y_test\n",
    "results[\"Predicted Laps\"] = predictions\n",
    "results[\"Residuals\"] = residuals\n",
    "\n",
    "# Find the optimal lap for each driver\n",
    "optimal_laps = results.loc[results.groupby(\"Driver\")[\"Residuals\"].idxmin()]\n",
    "\n",
    "print(\"Optimal Laps for Each Driver:\")\n",
    "print(optimal_laps)\n",
    "\n",
    "# Sort the results by Driver and Residuals\n",
    "results_sorted = results.sort_values(by=[\"Residuals\"])\n"
   ]
  },
  {
   "cell_type": "markdown",
   "metadata": {},
   "source": [
    "## Pick the Top 3 most Optimal laps"
   ]
  },
  {
   "cell_type": "code",
   "execution_count": 212,
   "metadata": {},
   "outputs": [
    {
     "name": "stdout",
     "output_type": "stream",
     "text": [
      "Top 3 Optimal Laps for Each Driver:\n",
      "   Stint  Compound  Driver  Actual Laps  Predicted Laps  Residuals\n",
      "0    3.0         3      11           25           22.20       2.80\n",
      "1    2.0         3      16           33           27.63       5.37\n",
      "2    1.0         2      17           29           23.62       5.38\n",
      "3    3.0         3      22            5           10.45       5.45\n",
      "4    2.0         3      21           17           11.17       5.83\n",
      "5    4.0         1      21           25           18.06       6.94\n",
      "6    3.0         3       2           21           28.30       7.30\n",
      "7    3.0         3      21            1           10.55       9.55\n",
      "8    5.0         1      21            2           18.06      16.06\n",
      "9    2.0         3      15           44           26.74      17.26\n"
     ]
    }
   ],
   "source": [
    "# Pick the top 3 values with the lowest residuals for each driver\n",
    "top_3_optimal_laps = results_sorted.groupby(\"Residuals\").head().reset_index(drop=True)\n",
    "\n",
    "print(\"Top 3 Optimal Laps for Each Driver:\")\n",
    "print(top_3_optimal_laps)"
   ]
  },
  {
   "cell_type": "code",
   "execution_count": 213,
   "metadata": {},
   "outputs": [
    {
     "name": "stdout",
     "output_type": "stream",
     "text": [
      "Mean Squared Error: 87.78\n",
      "Mean Absolute Error: 8.19\n",
      "R2 Score: 51.11%\n"
     ]
    }
   ],
   "source": [
    "mse = mean_squared_error(y_test, predictions)\n",
    "mae = mean_absolute_error(y_test, predictions)\n",
    "r2 = r2_score(y_test, predictions)\n",
    "\n",
    "print(f'Mean Squared Error: {mse:.2f}')\n",
    "print(f'Mean Absolute Error: {mae:.2f}')\n",
    "print(f'R2 Score: {r2*100:.2f}%')"
   ]
  },
  {
   "cell_type": "markdown",
   "metadata": {},
   "source": [
    "## Plot the model's accuracy"
   ]
  },
  {
   "cell_type": "code",
   "execution_count": 214,
   "metadata": {},
   "outputs": [
    {
     "data": {
      "image/png": "[encoded data removed]",
      "text/plain": [
       "<Figure size 1000x600 with 1 Axes>"
      ]
     },
     "metadata": {},
     "output_type": "display_data"
    }
   ],
   "source": [
    "plt.figure(figsize=(10,6))\n",
    "sns.scatterplot(x=y_test, y=predictions, alpha=0.7, color='b', edgecolors='k')\n",
    "plt.plot([y_test.min(), y_test.max()], [y_test.min(), y_test.max()], 'r--')\n",
    "plt.xlabel('Laps')\n",
    "plt.ylabel('Laps Predicted to Pit')\n",
    "plt.title('Optimal Lap to Pit')\n",
    "plt.show()"
   ]
  },
  {
   "cell_type": "markdown",
   "metadata": {},
   "source": [
    "## Accuracy of the distribution of residual values"
   ]
  },
  {
   "cell_type": "code",
   "execution_count": 215,
   "metadata": {},
   "outputs": [
    {
     "data": {
      "text/plain": [
       "Text(0.5, 1.0, 'Residuals Distribution')"
      ]
     },
     "execution_count": 215,
     "metadata": {},
     "output_type": "execute_result"
    },
    {
     "data": {
      "image/png": "[encoded data removed]",
      "text/plain": [
       "<Figure size 640x480 with 1 Axes>"
      ]
     },
     "metadata": {},
     "output_type": "display_data"
    }
   ],
   "source": [
    "# 2. Residuals Distribution\n",
    "plt.subplot(2, 2, 2)\n",
    "plt.hist(residuals, bins=20)\n",
    "plt.xlabel('Residuals')\n",
    "plt.ylabel('Frequency')\n",
    "plt.title('Residuals Distribution')"
   ]
  },
  {
   "cell_type": "markdown",
   "metadata": {},
   "source": [
    "## Feature Importance"
   ]
  },
  {
   "cell_type": "code",
   "execution_count": 216,
   "metadata": {},
   "outputs": [
    {
     "data": {
      "text/plain": [
       "Text(0.5, 1.0, 'Feature Importance')"
      ]
     },
     "execution_count": 216,
     "metadata": {},
     "output_type": "execute_result"
    },
    {
     "data": {
      "image/png": "[encoded data removed]",
      "text/plain": [
       "<Figure size 640x480 with 1 Axes>"
      ]
     },
     "metadata": {},
     "output_type": "display_data"
    }
   ],
   "source": [
    "# 3. Feature Importance\n",
    "plt.subplot(2, 2, 3)\n",
    "importance = pd.DataFrame({\n",
    "    'Feature': ['Stint', 'Compound', 'Driver'],\n",
    "    'Importance': model.feature_importances_\n",
    "})\n",
    "plt.bar(importance['Feature'], importance['Importance'])\n",
    "plt.title('Feature Importance')"
   ]
  },
  {
   "cell_type": "markdown",
   "metadata": {},
   "source": [
    "# Metrics Test"
   ]
  },
  {
   "cell_type": "code",
   "execution_count": 219,
   "metadata": {},
   "outputs": [
    {
     "data": {
      "text/plain": [
       "Text(0.5, 0.5, 'R² Score: 51.11%\\nMSE: 87.78\\nMAE: 8.19')"
      ]
     },
     "execution_count": 219,
     "metadata": {},
     "output_type": "execute_result"
    },
    {
     "data": {
      "image/png": "[encoded data removed]",
      "text/plain": [
       "<Figure size 640x480 with 1 Axes>"
      ]
     },
     "metadata": {},
     "output_type": "display_data"
    }
   ],
   "source": [
    "plt.text(0.5, 0.5, f'R² Score: {r2*100:.2f}%\\nMSE: {mse:.2f}\\nMAE: {mae:.2f}',\n",
    "            horizontalalignment='center', verticalalignment='center', fontsize=12)"
   ]
  },
  {
   "cell_type": "markdown",
   "metadata": {},
   "source": [
    "## Display the data with Gradio and make it interactive"
   ]
  },
  {
   "cell_type": "code",
   "execution_count": 203,
   "metadata": {},
   "outputs": [
    {
     "name": "stdout",
     "output_type": "stream",
     "text": [
      "* Running on local URL:  http://127.0.0.1:7867\n",
      "\n",
      "Could not create share link. Please check your internet connection or our status page: https://status.gradio.app.\n"
     ]
    },
    {
     "data": {
      "text/html": [
       "<div><iframe src=\"http://127.0.0.1:7867/\" width=\"100%\" height=\"500\" allow=\"autoplay; camera; microphone; clipboard-read; clipboard-write;\" frameborder=\"0\" allowfullscreen></iframe></div>"
      ],
      "text/plain": [
       "<IPython.core.display.HTML object>"
      ]
     },
     "metadata": {},
     "output_type": "display_data"
    },
    {
     "data": {
      "text/plain": []
     },
     "execution_count": 203,
     "metadata": {},
     "output_type": "execute_result"
    },
    {
     "name": "stdout",
     "output_type": "stream",
     "text": [
      "Austrian Grand Prix\n",
      "Optimal Laps for Each Driver:\n",
      "    Stint  Compound  Driver  Actual Laps  Predicted Laps  Residuals\n",
      "0     1.0         2       1           12           13.35       1.35\n",
      "5     3.0         3       2           33           30.71       2.29\n",
      "9     3.0         3       3           28           29.59       1.59\n",
      "16    1.0         2       5           11           15.85       4.85\n",
      "33    1.0         2       9           21           20.15       0.85\n",
      "41    3.0         3      10           34           27.53       6.47\n",
      "53    2.0         2      11           23           19.64       3.36\n",
      "64    3.0         3      14           19           25.77       6.77\n",
      "12    3.0         2      15           29           22.94       6.06\n",
      "45    1.0         2      16           22           21.48       0.52\n",
      "61    4.0         1      17            7           14.51       7.51\n",
      "30    1.0         2      19           19           21.54       2.54\n",
      "Top 3 Optimal Laps for Each Driver:\n",
      "    Stint  Compound  Driver  Actual Laps  Predicted Laps  Residuals\n",
      "0     1.0         2      16           22           21.48       0.52\n",
      "1     1.0         2       9           21           20.15       0.85\n",
      "2     1.0         2       1           12           13.35       1.35\n",
      "3     3.0         3       3           28           29.59       1.59\n",
      "4     3.0         3       2           33           30.71       2.29\n",
      "5     1.0         2      19           19           21.54       2.54\n",
      "6     2.0         2      11           23           19.64       3.36\n",
      "7     1.0         2       5           11           15.85       4.85\n",
      "8     3.0         2      15           29           22.94       6.06\n",
      "9     3.0         3      10           34           27.53       6.47\n",
      "10    3.0         3      14           19           25.77       6.77\n",
      "11    4.0         1      17            7           14.51       7.51\n",
      "12    3.0         2      17           13           24.06      11.06\n",
      "Mean Squared Error: 27.31\n",
      "Mean Absolute Error: 4.25\n",
      "R2 Score: 59.65%\n",
      "Saudi Arabian Grand Prix\n",
      "Optimal Laps for Each Driver:\n",
      "    Stint  Compound  Driver  Actual Laps  Predicted Laps  Residuals\n",
      "6     1.0         1       3            7           13.76       6.76\n",
      "13    2.0         3       5           17           38.80      21.80\n",
      "27    2.0         3      10           42           42.64       0.64\n",
      "33    1.0         2      12            7           14.40       7.40\n",
      "36    2.0         3      17           43           42.69       0.31\n",
      "30    1.0         2      20            7            7.68       0.68\n",
      "4     1.0         1      25            7            7.24       0.24\n",
      "Top 3 Optimal Laps for Each Driver:\n",
      "   Stint  Compound  Driver  Actual Laps  Predicted Laps  Residuals\n",
      "0    1.0         1      25            7            7.24       0.24\n",
      "1    2.0         3      17           43           42.69       0.31\n",
      "2    2.0         3      10           42           42.64       0.64\n",
      "3    1.0         2      20            7            7.68       0.68\n",
      "4    1.0         2      10            7            8.34       1.34\n",
      "5    1.0         1       3            7           13.76       6.76\n",
      "6    1.0         2      12            7           14.40       7.40\n",
      "7    2.0         3       5           17           38.80      21.80\n",
      "Mean Squared Error: 72.31\n",
      "Mean Absolute Error: 4.90\n",
      "R2 Score: 67.88%\n",
      "Saudi Arabian Grand Prix\n",
      "Optimal Laps for Each Driver:\n",
      "    Stint  Compound  Driver  Actual Laps  Predicted Laps  Residuals\n",
      "6     1.0         1       3            7           13.45       6.45\n",
      "13    2.0         3       5           17           40.00      23.00\n",
      "27    2.0         3      10           42           42.84       0.84\n",
      "33    1.0         2      12            7           14.20       7.20\n",
      "36    2.0         3      17           43           42.71       0.29\n",
      "30    1.0         2      20            7            7.00       0.00\n",
      "4     1.0         1      25            7            7.18       0.18\n",
      "Top 3 Optimal Laps for Each Driver:\n",
      "   Stint  Compound  Driver  Actual Laps  Predicted Laps  Residuals\n",
      "0    1.0         2      20            7            7.00       0.00\n",
      "1    1.0         1      25            7            7.18       0.18\n",
      "2    2.0         3      17           43           42.71       0.29\n",
      "3    2.0         3      10           42           42.84       0.84\n",
      "4    1.0         2      10            7            7.94       0.94\n",
      "5    1.0         1       3            7           13.45       6.45\n",
      "6    1.0         2      12            7           14.20       7.20\n",
      "7    2.0         3       5           17           40.00      23.00\n",
      "Mean Squared Error: 78.02\n",
      "Mean Absolute Error: 4.86\n",
      "R2 Score: 65.34%\n"
     ]
    }
   ],
   "source": [
    "def optimal_pit_stop_lap(grand_prix):\n",
    "    print(grand_prix)\n",
    "    file_path = grand_prix_files[grand_prix]\n",
    "    data = pd.read_csv(file_path)\n",
    "\n",
    "    # Mapping the tyre compounds\n",
    "    compound_map = {\n",
    "        \"SOFT\": 1,\n",
    "        \"MEDIUM\": 2,\n",
    "        \"HARD\": 3,\n",
    "        \"INTERMEDIATE\": 4,\n",
    "        \"WET\": 5\n",
    "\n",
    "    }\n",
    "\n",
    "    data[\"Compound\"] = data[\"Compound\"].map(compound_map)\n",
    "\n",
    "    # Mapping the drivers\n",
    "    drivers_map = {\n",
    "        \"ALB\": 1,  # Alexander Albon\n",
    "        \"ALO\": 2,  # Fernando Alonso\n",
    "        \"BOT\": 3,  # Valtteri Bottas\n",
    "        \"HAM\": 4,  # Lewis Hamilton\n",
    "        \"HUL\": 5,  # Nico Hulkenberg\n",
    "        \"LEC\": 6,  # Charles Leclerc\n",
    "        \"PIA\": 7,  # Oscar Piastri\n",
    "        \"NOR\": 8,  # Lando Norris\n",
    "        \"PER\": 9,  # Sergio Perez\n",
    "        \"RIC\": 10, # Daniel Ricciardo\n",
    "        \"STR\": 11, # Lance Stroll\n",
    "        \"TSU\": 12, # Yuki Tsunoda\n",
    "        \"ZHO\": 14, # Zhou Guanyu\n",
    "        \"GAS\": 15, # Pierre Gasly\n",
    "        \"SAI\": 16, # Carlos Sainz\n",
    "        \"VER\": 17, # Max Verstappen\n",
    "        \"RUS\": 18, # George Russell\n",
    "        \"OCO\": 19, # Esteban Ocon\n",
    "        \"SAR\": 20, # Logan Sargeant\n",
    "        \"MAG\": 21, # Kevin Magnussen\n",
    "        \"LAW\": 22, # Liam Lawson\n",
    "        \"COL\": 23, # Franco Colapinto\n",
    "        \"DOO\": 24, # Jack Doohan\n",
    "        \"BEA\": 25  # Oliver Bearman\n",
    "    }\n",
    "\n",
    "    data[\"Driver\"] = data[\"Driver\"].map(drivers_map)\n",
    "\n",
    "    # Drop rows with NaN values in any column\n",
    "    data = data.dropna()\n",
    "\n",
    "    x = data[[\"Stint\", \"Compound\", \"Driver\"]]\n",
    "    y = data[\"Laps\"]\n",
    "    x_train, x_test, y_train, y_test = train_test_split(x, y, test_size=0.2, random_state=42)\n",
    "    model = RandomForestRegressor()\n",
    "    model.fit(x_train, y_train)\n",
    "    predictions = model.predict(x_test)\n",
    "\n",
    "    # Calculate residuals\n",
    "    residuals = np.round(np.abs(y_test - predictions), decimals=2)\n",
    "\n",
    "    # Combine test data, predictions, and residuals into a DataFrame\n",
    "    results = x_test.copy()\n",
    "    results[\"Actual Laps\"] = y_test\n",
    "    results[\"Predicted Laps\"] = np.round(predictions, decimals=2)\n",
    "    results[\"Residuals\"] = residuals\n",
    "\n",
    "    # Find the optimal lap for each driver\n",
    "    optimal_laps = results.loc[results.groupby(\"Driver\")[\"Residuals\"].idxmin()]\n",
    "\n",
    "    print(\"Optimal Laps for Each Driver:\")\n",
    "    print(optimal_laps)\n",
    "\n",
    "    # Sort the results by Driver and Residuals\n",
    "    results_sorted = results.sort_values(by=[\"Residuals\"])\n",
    "\n",
    "    # Pick the top 3 values with the lowest residuals for each driver\n",
    "    top_3_optimal_laps = results_sorted.groupby(\"Residuals\").head(3).reset_index(drop=True)\n",
    "\n",
    "\n",
    "\n",
    "    print(\"Top 3 Optimal Laps for Each Driver:\")\n",
    "    print(top_3_optimal_laps)\n",
    "\n",
    "    # calculate accuracy\n",
    "    mse = mean_squared_error(y_test, predictions)\n",
    "    mae = mean_absolute_error(y_test, predictions)\n",
    "    r2 = r2_score(y_test, predictions)\n",
    "    print(f'Mean Squared Error: {mse:.2f}')\n",
    "    print(f'Mean Absolute Error: {mae:.2f}')\n",
    "    print(f'R2 Score: {r2*100:.2f}%')\n",
    "\n",
    "    return top_3_optimal_laps.head(3)\n",
    "\n",
    "output_text = f'The top 3 most optimal laps to pit are: \\n{top_3_optimal_laps}'\n",
    "\n",
    "iface = gr.Interface(fn=optimal_pit_stop_lap,\n",
    "                    inputs=gr.Dropdown(\n",
    "                        choices=list(grand_prix_files.keys()),\n",
    "                        label=\"Select Grand Prix\"),\n",
    "                    outputs=gr.DataFrame(),\n",
    "                    title=\"F1 Optimal Pit Stop Prediction\",\n",
    "                    description=\"Predict the optimal lap to pit for the selected Grand Prix\",)\n",
    "iface.launch(share=True)"
   ]
  }
 ],
 "metadata": {
  "kernelspec": {
   "display_name": "Python 3",
   "language": "python",
   "name": "python3"
  },
  "language_info": {
   "codemirror_mode": {
    "name": "ipython",
    "version": 3
   },
   "file_extension": ".py",
   "mimetype": "text/x-python",
   "name": "python",
   "nbconvert_exporter": "python",
   "pygments_lexer": "ipython3",
   "version": "3.10.11"
  }
 },
 "nbformat": 4,
 "nbformat_minor": 2
}
