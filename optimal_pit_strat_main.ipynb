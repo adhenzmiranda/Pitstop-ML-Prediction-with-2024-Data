{
 "cells": [
  {
   "cell_type": "markdown",
   "metadata": {},
   "source": [
    "## Import the modules"
   ]
  },
  {
   "cell_type": "code",
   "execution_count": 185,
   "metadata": {},
   "outputs": [],
   "source": [
    "import fastf1 as ff1 \n",
    "import matplotlib.pyplot as plt\n",
    "import pandas as pd\n",
    "from sklearn.model_selection import train_test_split\n",
    "from sklearn.linear_model import LinearRegression\n",
    "from sklearn.tree import DecisionTreeRegressor\n",
    "from sklearn.ensemble import RandomForestRegressor, GradientBoostingRegressor\n",
    "from sklearn.neighbors import KNeighborsRegressor\n",
    "from sklearn.metrics import mean_squared_error, mean_absolute_error, r2_score\n",
    "from sklearn.metrics import accuracy_score\n",
    "import gradio as gr\n",
    "import seaborn as sns\n",
    "import numpy as np\n",
    "import gradio as gr"
   ]
  },
  {
   "cell_type": "markdown",
   "metadata": {},
   "source": [
    "## Make a Dicitonary on the file locations"
   ]
  },
  {
   "cell_type": "code",
   "execution_count": 186,
   "metadata": {},
   "outputs": [],
   "source": [
    "grand_prix_files = {\n",
    "    \"Austrian Grand Prix\": \"race_stints_2024/austrian_grand_prix_stints.csv\",\n",
    "    \"British Grand Prix\": \"race_stints_2024/british_grand_prix_stints.csv\",\n",
    "    \"Bahrain Grand Prix\": \"race_stints_2024/bahrain_grand_prix_stints.csv\",\n",
    "    \"Saudi Arabian Grand Prix\": \"race_stints_2024/saudi_arabian_grand_prix_stints.csv\",\n",
    "    \"Australian Grand Prix\": \"race_stints_2024/australian_grand_prix_stints.csv\",\n",
    "    \"Emilia Romagna Grand Prix\": \"race_stints_2024/emilia_romagna_grand_prix_stints.csv\",\n",
    "    \"Monaco Grand Prix\": \"race_stints_2024/monaco_grand_prix_stints.csv\",\n",
    "    \"Spanish Grand Prix\": \"race_stints_2024/spanish_grand_prix_stints.csv\",\n",
    "    \"Canadian Grand Prix\": \"race_stints_2024/canadian_grand_prix_stints.csv\",\n",
    "    \"French Grand Prix\": \"race_stints_2024/french_grand_prix_stints.csv\",\n",
    "    \"Hungarian Grand Prix\": \"race_stints_2024/hungarian_grand_prix_stints.csv\",\n",
    "    \"Belgian Grand Prix\": \"race_stints_2024/belgian_grand_prix_stints.csv\",\n",
    "    \"Dutch Grand Prix\": \"race_stints_2024/dutch_grand_prix_stints.csv\",\n",
    "    \"Italian Grand Prix\": \"race_stints_2024/italian_grand_prix_stints.csv\",\n",
    "    \"Singapore Grand Prix\": \"race_stints_2024/singapore_grand_prix_stints.csv\",\n",
    "    \"Japanese Grand Prix\": \"race_stints_2024/japanese_grand_prix_stints.csv\",\n",
    "    \"United States Grand Prix\": \"race_stints_2024/united_states_grand_prix_stints.csv\",\n",
    "    \"Mexican Grand Prix\": \"race_stints_2024/mexican_grand_prix_stints.csv\",\n",
    "    \"Brazilian Grand Prix\": \"race_stints_2024/brazilian_grand_prix_stints.csv\",\n",
    "    \"Qatar Grand Prix\": \"race_stints_2024/qatar_grand_prix_stints.csv\",\n",
    "    \"Abu Dhabi Grand Prix\": \"race_stints_2024/abu_dhabi_grand_prix_stints.csv\",\n",
    "    \"Miami Grand Prix\": \"race_stints_2024/miami_grand_prix_stints.csv\",\n",
    "    \"Las Vegas Grand Prix\": \"race_stints_2024/las_vegas_grand_prix_stints.csv\"\n",
    "}"
   ]
  },
  {
   "cell_type": "markdown",
   "metadata": {},
   "source": [
    "## Input the Grand Prix"
   ]
  },
  {
   "cell_type": "code",
   "execution_count": 187,
   "metadata": {},
   "outputs": [
    {
     "name": "stdout",
     "output_type": "stream",
     "text": [
      "Predicting the Optimal Pitstop for the:Abu Dhabi Grand Prix\n"
     ]
    }
   ],
   "source": [
    "# grand_prix = input(\"Enter a 2024 Grand Prix\")\n",
    "grand_prix = \"Abu Dhabi Grand Prix\"\n",
    "grand_prix_files[grand_prix]\n",
    "print(f'Predicting the Optimal Pitstop for the:{grand_prix}')"
   ]
  },
  {
   "cell_type": "markdown",
   "metadata": {},
   "source": [
    "## Load and read the selected file"
   ]
  },
  {
   "cell_type": "code",
   "execution_count": 188,
   "metadata": {},
   "outputs": [
    {
     "name": "stdout",
     "output_type": "stream",
     "text": [
      "  Driver  Stint Compound  Laps\n",
      "0    ALB    1.0   MEDIUM    12\n",
      "1    ALB    2.0     HARD    45\n",
      "2    ALO    1.0   MEDIUM    13\n",
      "3    ALO    2.0     HARD    24\n",
      "4    ALO    3.0     HARD    21\n"
     ]
    }
   ],
   "source": [
    "file_path = grand_prix_files[grand_prix] #Find the file path for the selected grand prix\n",
    "data = pd.read_csv(file_path) #Read the data from the file\n",
    "print(data.head()) #Print the first 5 rows of the data"
   ]
  },
  {
   "cell_type": "markdown",
   "metadata": {},
   "source": [
    "## Pre-process and map the data"
   ]
  },
  {
   "cell_type": "code",
   "execution_count": 189,
   "metadata": {},
   "outputs": [],
   "source": [
    "# Mapping the tyre compounds\n",
    "compound_map = {\n",
    "    \"SOFT\": 1,\n",
    "    \"MEDIUM\": 2,\n",
    "    \"HARD\": 3\n",
    "}\n",
    "\n",
    "data[\"Compound\"] = data[\"Compound\"].map(compound_map)\n",
    "\n",
    "# Mapping the drivers\n",
    "drivers_map = {\n",
    "    \"ALB\": 1,  # Alexander Albon\n",
    "    \"ALO\": 2,  # Fernando Alonso\n",
    "    \"BOT\": 3,  # Valtteri Bottas\n",
    "    \"HAM\": 4,  # Lewis Hamilton\n",
    "    \"HUL\": 5,  # Nico Hulkenberg\n",
    "    \"LEC\": 6,  # Charles Leclerc\n",
    "    \"PIA\": 7,  # Oscar Piastri\n",
    "    \"NOR\": 8,  # Lando Norris\n",
    "    \"PER\": 9,  # Sergio Perez\n",
    "    \"RIC\": 10, # Daniel Ricciardo\n",
    "    \"STR\": 11, # Lance Stroll\n",
    "    \"TSU\": 12, # Yuki Tsunoda\n",
    "    \"ZHO\": 14, # Zhou Guanyu\n",
    "    \"GAS\": 15, # Pierre Gasly\n",
    "    \"SAI\": 16, # Carlos Sainz\n",
    "    \"VER\": 17, # Max Verstappen\n",
    "    \"RUS\": 18, # George Russell\n",
    "    \"OCO\": 19, # Esteban Ocon\n",
    "    \"SAR\": 20, # Logan Sargeant\n",
    "    \"MAG\": 21, # Kevin Magnussen\n",
    "    \"LAW\": 22, # Liam Lawson\n",
    "    \"COL\": 23, # Franco Colapinto\n",
    "    \"DOO\": 24, # Jack Doohan\n",
    "    \"BEA\": 25  # Oliver Bearman\n",
    "}\n",
    "\n",
    "data[\"Driver\"] = data[\"Driver\"].map(drivers_map)\n",
    "\n",
    "# Drop rows with NaN values in any column\n",
    "data = data.dropna()\n",
    "\n",
    "# Pre process into their respective variables\n",
    "x = data[[\"Stint\", \"Compound\", \"Driver\"]]\n",
    "y = data[\"Laps\"]"
   ]
  },
  {
   "cell_type": "markdown",
   "metadata": {},
   "source": [
    "## Split the data "
   ]
  },
  {
   "cell_type": "code",
   "execution_count": 190,
   "metadata": {},
   "outputs": [],
   "source": [
    "x_train, x_test, y_train, y_test = train_test_split(x, y, test_size=0.2, random_state=42)"
   ]
  },
  {
   "cell_type": "markdown",
   "metadata": {},
   "source": [
    "## Choose the model and predict the data"
   ]
  },
  {
   "cell_type": "code",
   "execution_count": 191,
   "metadata": {},
   "outputs": [
    {
     "name": "stdout",
     "output_type": "stream",
     "text": [
      "[16.61 22.59 16.61 23.98  8.33 27.83 26.91  7.89 30.05  7.89]\n"
     ]
    }
   ],
   "source": [
    "model = RandomForestRegressor()\n",
    "model.fit(x_train, y_train)\n",
    "\n",
    "predictions = model.predict(x_test)\n",
    "print(predictions)"
   ]
  },
  {
   "cell_type": "markdown",
   "metadata": {},
   "source": [
    "# Check accuracy of the data"
   ]
  },
  {
   "cell_type": "code",
   "execution_count": 192,
   "metadata": {},
   "outputs": [
    {
     "name": "stdout",
     "output_type": "stream",
     "text": [
      "Mean Squared Error: 84.65\n",
      "Mean Absolute Error: 8.02\n",
      "R2 Score: 52.85%\n"
     ]
    }
   ],
   "source": [
    "mse = mean_squared_error(y_test, predictions)\n",
    "mae = mean_absolute_error(y_test, predictions)\n",
    "r2 = r2_score(y_test, predictions)\n",
    "\n",
    "print(f'Mean Squared Error: {mse:.2f}')\n",
    "print(f'Mean Absolute Error: {mae:.2f}')\n",
    "print(f'R2 Score: {r2*100:.2f}%')"
   ]
  },
  {
   "cell_type": "markdown",
   "metadata": {},
   "source": [
    "## Calculate the residuals to find the optimal lap to pit"
   ]
  },
  {
   "cell_type": "code",
   "execution_count": 193,
   "metadata": {},
   "outputs": [
    {
     "name": "stdout",
     "output_type": "stream",
     "text": [
      "Optimal Laps for Each Driver:\n",
      "    Stint  Compound  Driver  Actual Laps  Predicted Laps  Residuals\n",
      "4     3.0         3       2           21           30.05       9.05\n",
      "40    3.0         3      11           25           22.59       2.41\n",
      "12    2.0         3      15           44           26.91      17.09\n",
      "37    2.0         3      16           33           27.83       5.17\n",
      "43    1.0         2      17           29           23.98       5.02\n",
      "25    3.0         3      21            1            7.89       6.89\n",
      "19    3.0         3      22            5            7.89       2.89\n"
     ]
    }
   ],
   "source": [
    "# Calculate residuals\n",
    "residuals = np.abs(y_test - predictions)\n",
    "\n",
    "# Combine test data, predictions, and residuals into a DataFrame\n",
    "results = x_test.copy()\n",
    "results[\"Actual Laps\"] = y_test\n",
    "results[\"Predicted Laps\"] = predictions\n",
    "results[\"Residuals\"] = residuals\n",
    "\n",
    "# Find the optimal lap for each driver\n",
    "optimal_laps = results.loc[results.groupby(\"Driver\")[\"Residuals\"].idxmin()]\n",
    "\n",
    "print(\"Optimal Laps for Each Driver:\")\n",
    "print(optimal_laps)\n",
    "\n",
    "# Sort the results by Driver and Residuals\n",
    "results_sorted = results.sort_values(by=[\"Residuals\"])\n"
   ]
  },
  {
   "cell_type": "markdown",
   "metadata": {},
   "source": [
    "## Pick the Top 3 most Optimal laps"
   ]
  },
  {
   "cell_type": "code",
   "execution_count": 194,
   "metadata": {},
   "outputs": [
    {
     "name": "stdout",
     "output_type": "stream",
     "text": [
      "Top 3 Optimal Laps for Each Driver:\n",
      "   Stint  Compound  Driver  Actual Laps  Predicted Laps  Residuals\n",
      "0    3.0         3      11           25           22.59       2.41\n",
      "1    3.0         3      22            5            7.89       2.89\n",
      "2    1.0         2      17           29           23.98       5.02\n",
      "3    2.0         3      16           33           27.83       5.17\n",
      "4    3.0         3      21            1            7.89       6.89\n",
      "5    4.0         1      21           25           16.61       8.39\n",
      "6    2.0         3      21           17            8.33       8.67\n",
      "7    3.0         3       2           21           30.05       9.05\n",
      "8    5.0         1      21            2           16.61      14.61\n",
      "9    2.0         3      15           44           26.91      17.09\n"
     ]
    }
   ],
   "source": [
    "# Pick the top 3 values with the lowest residuals for each driver\n",
    "top_3_optimal_laps = results_sorted.groupby(\"Residuals\").head().reset_index(drop=True)\n",
    "\n",
    "print(\"Top 3 Optimal Laps for Each Driver:\")\n",
    "print(top_3_optimal_laps)"
   ]
  },
  {
   "cell_type": "code",
   "execution_count": 195,
   "metadata": {},
   "outputs": [
    {
     "name": "stdout",
     "output_type": "stream",
     "text": [
      "Mean Squared Error: 84.65\n",
      "Mean Absolute Error: 8.02\n",
      "R2 Score: 52.85%\n"
     ]
    }
   ],
   "source": [
    "mse = mean_squared_error(y_test, predictions)\n",
    "mae = mean_absolute_error(y_test, predictions)\n",
    "r2 = r2_score(y_test, predictions)\n",
    "\n",
    "print(f'Mean Squared Error: {mse:.2f}')\n",
    "print(f'Mean Absolute Error: {mae:.2f}')\n",
    "print(f'R2 Score: {r2*100:.2f}%')"
   ]
  },
  {
   "cell_type": "markdown",
   "metadata": {},
   "source": [
    "## Plot the data"
   ]
  },
  {
   "cell_type": "code",
   "execution_count": 196,
   "metadata": {},
   "outputs": [
    {
     "data": {
      "image/png": "[encoded data removed]",
      "text/plain": [
       "<Figure size 1000x600 with 1 Axes>"
      ]
     },
     "metadata": {},
     "output_type": "display_data"
    }
   ],
   "source": [
    "plt.figure(figsize=(10,6))\n",
    "sns.scatterplot(x=y_test, y=predictions, alpha=0.7, color='b', edgecolors='k')\n",
    "plt.plot([y_test.min(), y_test.max()], [y_test.min(), y_test.max()], 'r--')\n",
    "plt.xlabel('Laps Actual to Pit')\n",
    "plt.ylabel('Laps Predicted to Pit')\n",
    "plt.title('Optimal Lap to Pit')\n",
    "plt.show()"
   ]
  },
  {
   "cell_type": "markdown",
   "metadata": {},
   "source": [
    "## Display the data with Gradio and make it interactive"
   ]
  }
 ],
 "metadata": {
  "kernelspec": {
   "display_name": "Python 3",
   "language": "python",
   "name": "python3"
  },
  "language_info": {
   "codemirror_mode": {
    "name": "ipython",
    "version": 3
   },
   "file_extension": ".py",
   "mimetype": "text/x-python",
   "name": "python",
   "nbconvert_exporter": "python",
   "pygments_lexer": "ipython3",
   "version": "3.10.11"
  }
 },
 "nbformat": 4,
 "nbformat_minor": 2
}
